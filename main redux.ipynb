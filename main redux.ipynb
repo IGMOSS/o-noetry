{
 "cells": [
  {
   "cell_type": "markdown",
   "metadata": {},
   "source": []
  },
  {
   "cell_type": "code",
   "execution_count": 40,
   "metadata": {
    "scrolled": true
   },
   "outputs": [
    {
     "name": "stdout",
     "output_type": "stream",
     "text": [
      "\n",
      "    On this halloween there's a fairy\n",
      "    It stalks the streets of Metairie\n",
      "    It's name is Oscar, \n",
      "    This is the a fairy's haunt.\n",
      "   \n",
      "\n",
      "\n",
      "\n",
      "    On this halloween there's a fairy\n",
      "    It stalks the streets of Bury\n",
      "    It's name is Kaden, \n",
      "    This is the a fairy's haunt.\n",
      "   \n",
      "\n",
      "\n",
      "\n",
      "    On this halloween there's a fairy\n",
      "    It stalks the streets of Metairie\n",
      "    It's name is Evan, \n",
      "    This is the a fairy's haunt.\n",
      "   \n",
      "\n",
      "\n"
     ]
    }
   ],
   "source": [
    "from textblob import TextBlob\n",
    "import random\n",
    "import pycorpora\n",
    "import pronouncing\n",
    "\n",
    "def get_monsters():\n",
    "    keepers = []\n",
    "    \n",
    "    monster_lists = [\n",
    "        pycorpora.mythology.monsters[\"names\"],\n",
    "        pycorpora.mythology.lovecraft['deities'],\n",
    "       \n",
    "    ]\n",
    "    \n",
    "    big_monster_list = []\n",
    "    \n",
    "    for fl in monster_lists:\n",
    "        big_monster_list += fl\n",
    "    \n",
    "    for monster in big_monster_list:\n",
    "        pronunciation_list = pronouncing.phones_for_word(monster)\n",
    "        if (len(pronunciation_list) > 0):\n",
    "            syllable_count = pronouncing.syllable_count(pronunciation_list[0])\n",
    "            if (syllable_count <= 2):\n",
    "                keepers.append(monster)\n",
    "    \n",
    "    return keepers\n",
    "\n",
    "def get_names():\n",
    "    keepers = []\n",
    "    for names in pycorpora.humans.firstnames[\"firstNames\"]:\n",
    "        pronunciation_list = pronouncing.phones_for_word(names)\n",
    "        if (len(pronunciation_list) > 0):\n",
    "            syllable_count = pronouncing.syllable_count(pronunciation_list[0])\n",
    "            if (syllable_count <= 2):\n",
    "                keepers.append(names)\n",
    "            \n",
    "    return random.choice(keepers)\n",
    "    \n",
    "def get_places():\n",
    "    keepers = []  \n",
    "    \n",
    "    place_lists = [\n",
    "        [place[\"city\"] for place in pycorpora.geography.us_cities['cities']],\n",
    "        [place[\"city\"] for place in pycorpora.geography.norwegian_cities['cities']],\n",
    "        pycorpora.geography.english_towns_cities['towns'],\n",
    "        pycorpora.geography.english_towns_cities['cities'],\n",
    "        [river[\"name\"] for river in pycorpora.geography.rivers[\"rivers\"]],\n",
    "        pycorpora.geography.countries['countries'],\n",
    "        [place[\"name\"] for place in pycorpora.geography.canadian_municipalities[\"municipalities\"]],\n",
    "        [place['name'] for place in pycorpora.geography.london_underground_stations['stations']]  \n",
    "    ]\n",
    "    \n",
    "    big_places_list = []\n",
    "    \n",
    "    for pl in place_lists:\n",
    "        big_places_list += pl\n",
    "    \n",
    "    for place in big_places_list:\n",
    "        \n",
    "        pronunciation_list = pronouncing.phones_for_word(place)   \n",
    "        \n",
    "        if (len(pronunciation_list) > 0):\n",
    "            syllable_count = pronouncing.syllable_count(pronunciation_list[0])\n",
    "            stresses = pronouncing.stresses(pronunciation_list[0])\n",
    "            \n",
    "            \n",
    "            \n",
    "            if (syllable_count == 3 and stresses[1] == '1'):\n",
    "                keepers.append(place)\n",
    "            elif (syllable_count == 2 and stresses[0] == '1'):\n",
    "                keepers.append(place)\n",
    "\n",
    "                    \n",
    "                    \n",
    "    return keepers    \n",
    "\n",
    "def get_pairs():\n",
    "    # get a pair of 1 place + 1 food that rhyme\n",
    "    # return these as a tuple\n",
    "    \n",
    "    monsters = get_monsters()\n",
    "    places = get_places()\n",
    "    names = get_names()\n",
    "    pairs = []\n",
    "    \n",
    "    for f in monsters:\n",
    "        for p in places:\n",
    "            #print(\"comparing \" + f,p)\n",
    "            if (f in pronouncing.rhymes(p)):\n",
    "                pairs.append( (p,f) )\n",
    "                \n",
    "    \n",
    "    return pairs\n",
    "\n",
    "\n",
    "\n",
    "template = \"\"\"\n",
    "    On this halloween there's {2}\n",
    "    It stalks the streets of {1}\n",
    "    It's name is {0}, \n",
    "    This is the {2}'s haunt.\n",
    "   \n",
    "\n",
    "\"\"\"\n",
    "\n",
    "for s in range(3):\n",
    "    pair = random.choice(get_pairs())\n",
    "\n",
    "    arranged = template.format(\n",
    "        get_names(),\n",
    "        pair[0],\n",
    "        an(pair[1]))\n",
    "\n",
    "    print(arranged)"
   ]
  },
  {
   "cell_type": "code",
   "execution_count": 16,
   "metadata": {
    "scrolled": true
   },
   "outputs": [
    {
     "name": "stdout",
     "output_type": "stream",
     "text": [
      "Requirement already satisfied: pycorpora in c:\\users\\iggym\\anaconda3\\lib\\site-packages (0.1.2)\n"
     ]
    },
    {
     "name": "stderr",
     "output_type": "stream",
     "text": [
      "c:\\users\\iggym\\anaconda3\\lib\\site-packages\\pip\\_internal\\commands\\install.py:206: UserWarning: Disabling all use of wheels due to the use of --build-options / --global-options / --install-options.\n",
      "  cmdoptions.check_install_build_global(options)\n"
     ]
    }
   ],
   "source": [
    "!pip install pycorpora --install-option=\"--corpora-zip-url=https://github.com/dariusk/corpora/archive/master.zip\"\n",
    "\n",
    "\n"
   ]
  },
  {
   "cell_type": "code",
   "execution_count": 2,
   "metadata": {},
   "outputs": [
    {
     "name": "stdout",
     "output_type": "stream",
     "text": [
      "Collecting pronouncing\n",
      "  Downloading https://files.pythonhosted.org/packages/7f/c6/9dc74a3ddca71c492e224116b6654592bfe5717b4a78582e4d9c3345d153/pronouncing-0.2.0.tar.gz\n",
      "Collecting cmudict>=0.4.0 (from pronouncing)\n",
      "  Downloading https://files.pythonhosted.org/packages/97/57/8cd6346be7fcfdcede89351dc5fb9f132255ffeb505673e30d2f4dafea8a/cmudict-0.4.1-py2.py3-none-any.whl (938kB)\n",
      "Building wheels for collected packages: pronouncing\n",
      "  Running setup.py bdist_wheel for pronouncing: started\n",
      "  Running setup.py bdist_wheel for pronouncing: finished with status 'error'\n",
      "  Complete output from command c:\\users\\iggym\\anaconda3\\python.exe -u -c \"import setuptools, tokenize;__file__='C:\\\\Users\\\\iggym\\\\AppData\\\\Local\\\\Temp\\\\pip-install-omc3vvgr\\\\pronouncing\\\\setup.py';f=getattr(tokenize, 'open', open)(__file__);code=f.read().replace('\\r\\n', '\\n');f.close();exec(compile(code, __file__, 'exec'))\" bdist_wheel -d C:\\Users\\iggym\\AppData\\Local\\Temp\\pip-wheel-pbvr3fw3 --python-tag cp36:\n",
      "  usage: -c [global_opts] cmd1 [cmd1_opts] [cmd2 [cmd2_opts] ...]\n",
      "     or: -c --help [cmd1 cmd2 ...]\n",
      "     or: -c --help-commands\n",
      "     or: -c cmd --help\n",
      "  \n",
      "  error: invalid command 'bdist_wheel'\n",
      "  \n",
      "  ----------------------------------------\n",
      "  Running setup.py clean for pronouncing\n",
      "Failed to build pronouncing\n",
      "Installing collected packages: cmudict, pronouncing\n",
      "  Running setup.py install for pronouncing: started\n",
      "    Running setup.py install for pronouncing: finished with status 'done'\n",
      "Successfully installed cmudict-0.4.1 pronouncing-0.2.0\n"
     ]
    },
    {
     "name": "stderr",
     "output_type": "stream",
     "text": [
      "  Failed building wheel for pronouncing\n"
     ]
    }
   ],
   "source": [
    "!pip install pronouncing"
   ]
  },
  {
   "cell_type": "code",
   "execution_count": 3,
   "metadata": {},
   "outputs": [
    {
     "name": "stdout",
     "output_type": "stream",
     "text": [
      "Collecting setuptools\n",
      "  Downloading https://files.pythonhosted.org/packages/96/06/c8ee69628191285ddddffb277bd5abdf769166e7a14b867c2a172f0175b1/setuptools-40.4.3-py2.py3-none-any.whl (569kB)\n",
      "Installing collected packages: setuptools\n",
      "  Found existing installation: setuptools 40.2.0\n",
      "    Uninstalling setuptools-40.2.0:\n",
      "      Successfully uninstalled setuptools-40.2.0\n",
      "Successfully installed setuptools-40.4.3\n"
     ]
    }
   ],
   "source": [
    "!pip install --upgrade setuptools"
   ]
  }
 ],
 "metadata": {
  "kernelspec": {
   "display_name": "Python 3",
   "language": "python",
   "name": "python3"
  },
  "language_info": {
   "codemirror_mode": {
    "name": "ipython",
    "version": 3
   },
   "file_extension": ".py",
   "mimetype": "text/x-python",
   "name": "python",
   "nbconvert_exporter": "python",
   "pygments_lexer": "ipython3",
   "version": "3.6.6"
  }
 },
 "nbformat": 4,
 "nbformat_minor": 2
}
